{
 "cells": [
  {
   "cell_type": "code",
   "execution_count": 1,
   "metadata": {},
   "outputs": [],
   "source": [
    "import pandas as pd\n",
    "from sklearn.model_selection import train_test_split\n",
    "import copy\n",
    "from nltk.tokenize import RegexpTokenizer\n",
    "from nltk.corpus import stopwords\n",
    "from nltk.corpus import wordnet\n",
    "from collections import Counter\n",
    "from nltk.stem import WordNetLemmatizer\n",
    "from nltk.stem import PorterStemmer\n",
    "from nltk.stem import LancasterStemmer\n",
    "from nltk.stem.snowball import SnowballStemmer\n",
    "from sklearn.feature_extraction.text import CountVectorizer, TfidfVectorizer\n",
    "from sklearn.naive_bayes import MultinomialNB\n",
    "from sklearn import metrics\n",
    "import seaborn as sns\n",
    "import numpy as np"
   ]
  },
  {
   "cell_type": "markdown",
   "metadata": {},
   "source": [
    "## PART 1- NB Implementation"
   ]
  },
  {
   "cell_type": "code",
   "execution_count": 2,
   "metadata": {},
   "outputs": [],
   "source": [
    "def sentiment_analysis(data):\n",
    "    \n",
    "    df = pd.read_csv(data)\n",
    "    \n",
    "    # 1- LOWER CASE \n",
    "    \n",
    "    df_copy = copy.deepcopy(df)\n",
    "    df_copy['Review']= df_copy.loc[:,'Review'].str.lower()\n",
    "    \n",
    "    # 2- REMOVE PUNCTIATION\n",
    "    \n",
    "    tokenizer = RegexpTokenizer(r\"\\w+\")\n",
    "    df_copy['Review'] = df_copy['Review'].map(tokenizer.tokenize)\n",
    "    \n",
    "    \n",
    "    # 3- REMOVE STOP WORDS\n",
    "    \n",
    "    stop_words_nltk = set(stopwords.words('english'))\n",
    "    \n",
    "    df_copy['Review']= df_copy['Review'].apply(lambda x: [item for item in x if item not in stop_words_nltk])\n",
    "    \n",
    "    # 4- STEM THE WORDS\n",
    "    \n",
    "    wordnet_lemmatizer = WordNetLemmatizer()\n",
    "    #porter = PorterStemmer()\n",
    "    #lancaster=LancasterStemmer()\n",
    "    #snowball = SnowballStemmer(\"english\")\n",
    "    \n",
    "    #for w in all_reviews:\n",
    "        #print(\"{0:20}{1:20}{2:20}{3:20}{4:20}\".format(w,porter.stem(w),lancaster.stem(w),\n",
    "                                                   # wordnet_lemmatizer.lemmatize(w, pos=\"v\"),snowball_stem(w)))\n",
    "    \n",
    "    df_copy['Review_stemmed'] = df_copy['Review'].apply(lambda x: [wordnet_lemmatizer.lemmatize(y, pos=\"v\") \n",
    "                                                                   for y in x])\n",
    "    df_copy = df_copy.drop(columns=['Review'])\n",
    "    \n",
    "    # 5- VECTORIZE --> First divided into test and train to prevent leakage\n",
    "    \n",
    "        # Split the dataset into train and test. \n",
    "    \n",
    "    X_train, X_test, y_train, y_test = train_test_split(df_copy['Review_stemmed'],df_copy['Sentiment'], \n",
    "                                                        train_size=0.801,random_state=1)\n",
    "    \n",
    "    X_train_copy = copy.deepcopy(X_train)\n",
    "    X_test_copy = copy.deepcopy(X_test)\n",
    "    \n",
    "    \n",
    "    X_train_copy = X_train_copy.apply(lambda x: \" \".join(x) )\n",
    "    X_test_copy = X_test_copy.apply(lambda x: \" \".join(x) )\n",
    "  \n",
    "    # max_features=1800 gives the best accuracy \n",
    "    \n",
    "    cv = CountVectorizer(max_features=1800, stop_words='english')\n",
    "    \n",
    "    X_train_tf = cv.fit_transform(X_train_copy)\n",
    "    \n",
    "    X_test_tf = cv.transform(X_test_copy)\n",
    "    \n",
    "    \n",
    "    # 6- MULTINOMINAL BAYES\n",
    "    \n",
    "    clf = MultinomialNB()\n",
    "    \n",
    "    clf.fit(X_train_tf, y_train)\n",
    "    \n",
    "    predicted = clf.predict(X_test_tf)\n",
    "    \n",
    "    accuracy = metrics.accuracy_score(y_test, predicted)\n",
    "    \n",
    "    print(f\"Your accuracy is: {accuracy}\")\n",
    "    \n",
    "    # 7- CONFUSION MATRIX\n",
    "    \n",
    "    cf_matrix = metrics.confusion_matrix(y_test, predicted)\n",
    "    \n",
    "    group_names = ['True Neg','False Pos','False Neg','True Pos']\n",
    "    \n",
    "    group_counts = ['{0:0.0f}'.format(value) for value in\n",
    "                    cf_matrix.flatten()]\n",
    "    \n",
    "    group_percentages = ['{0:.2%}'.format(value) for value in\n",
    "                     cf_matrix.flatten()/np.sum(cf_matrix)]\n",
    "    \n",
    "    labels = [f'{v1}\\n{v2}\\n{v3}' for v1, v2, v3 in\n",
    "              zip(group_names,group_counts,group_percentages)]\n",
    "    \n",
    "    labels = np.asarray(labels).reshape(2,2)\n",
    "    \n",
    "    sns.heatmap(cf_matrix, annot=labels, fmt=\"\", cmap='RdYlGn')\n",
    "    "
   ]
  },
  {
   "cell_type": "code",
   "execution_count": 3,
   "metadata": {
    "scrolled": false
   },
   "outputs": [
    {
     "name": "stdout",
     "output_type": "stream",
     "text": [
      "Your accuracy is: 0.7572463768115942\n"
     ]
    },
    {
     "data": {
      "image/png": "[encoded data removed]",
      "text/plain": [
       "<Figure size 432x288 with 2 Axes>"
      ]
     },
     "metadata": {
      "needs_background": "light"
     },
     "output_type": "display_data"
    }
   ],
   "source": [
    "test = sentiment_analysis('car-reviews.csv')\n",
    "test"
   ]
  },
  {
   "cell_type": "markdown",
   "metadata": {},
   "source": [
    "## PART 2- Improvements\n",
    "\n"
   ]
  },
  {
   "cell_type": "markdown",
   "metadata": {},
   "source": [
    "I wanted to make 2 improvements in the NB implementation:\n",
    "\n",
    "### 1) Vectorizer\n",
    "\n",
    "While analysing the code, I realized some words in my training data which has a high frequency but low impact. (Such as {one': 1635, 'would': 1426} and I wanted to improve vectorizer by taking into consideration not only the frequency but also the importance)\n",
    "\n",
    "### 2) Choice of Algorithm\n",
    "\n",
    "#### - Linear SVC Classifier \n",
    "\n",
    "Algorithm to be used for our use case based on scikit-learn cheat sheet:\n",
    "https://scikit-learn.org/stable/tutorial/machine_learning_map/index.html\n",
    "\n",
    "\n",
    "#### - Random Forest\n",
    "\n",
    "Often used in my company and much praised for it's hyper parameter tuning.\n",
    "\n",
    "Also in the research paper below, there is a direct comparison with NB and gives better results for Text Only files. \n",
    "\n",
    "https://minerva-access.unimelb.edu.au/bitstream/handle/11343/216910/2017_Asmita_Different_Data.pdf\n",
    "\n",
    "\n",
    "--> Parameter choices are done experimentally to get the best result for both models.  \n"
   ]
  },
  {
   "cell_type": "code",
   "execution_count": 4,
   "metadata": {},
   "outputs": [],
   "source": [
    "from sklearn.svm import LinearSVC\n",
    "from sklearn.ensemble import RandomForestClassifier\n",
    "import matplotlib.pyplot as plt"
   ]
  },
  {
   "cell_type": "code",
   "execution_count": 5,
   "metadata": {},
   "outputs": [],
   "source": [
    "def sentiment_analysis_pt2(data):\n",
    "    \n",
    "    # Same data prep with NB implementation\n",
    "    \n",
    "    df = pd.read_csv(data)\n",
    "    \n",
    "    df_copy = copy.deepcopy(df)\n",
    "    df_copy['Review']= df_copy.loc[:,'Review'].str.lower()\n",
    "    \n",
    "    tokenizer = RegexpTokenizer(r\"\\w+\")\n",
    "    df_copy['Review'] = df_copy['Review'].map(tokenizer.tokenize)\n",
    "    \n",
    "    stop_words_nltk = set(stopwords.words('english'))\n",
    "    \n",
    "    df_copy['Review']= df_copy['Review'].apply(lambda x: [item for item in x if item not in stop_words_nltk])\n",
    "    \n",
    "    \n",
    "    wordnet_lemmatizer = WordNetLemmatizer()\n",
    "    \n",
    "    df_copy['Review_stemmed'] = df_copy['Review'].apply(lambda x: [wordnet_lemmatizer.lemmatize(y, pos=\"v\") \n",
    "                                                                   for y in x])\n",
    "    df_copy = df_copy.drop(columns=['Review'])\n",
    "    \n",
    "    \n",
    "    X_train, X_test, y_train, y_test = train_test_split(df_copy['Review_stemmed'],df_copy['Sentiment'], \n",
    "                                                        train_size=0.801,random_state=1)\n",
    "    \n",
    "    X_train_copy = copy.deepcopy(X_train)\n",
    "    X_test_copy = copy.deepcopy(X_test)\n",
    "    \n",
    "    \n",
    "    X_train_copy = X_train_copy.apply(lambda x: \" \".join(x) )\n",
    "    X_test_copy = X_test_copy.apply(lambda x: \" \".join(x) )\n",
    "   \n",
    "    #As a vectorizer, this time tf-if is used\n",
    "    \n",
    "    cv = TfidfVectorizer(use_idf=True, \n",
    "                        smooth_idf=True,  \n",
    "                        ngram_range=(1,1),stop_words='english')\n",
    "    \n",
    "    X_train_tf = cv.fit_transform(X_train_copy)\n",
    "    \n",
    "    X_test_tf = cv.transform(X_test_copy)\n",
    "    \n",
    "    \n",
    "    # 6- Linear SVC as proposed by skicit learn\n",
    "    \n",
    "    lsvc = LinearSVC(verbose=0)\n",
    "    \n",
    "    LinearSVC()\n",
    "    \n",
    "    lsvc.fit(X_train_tf, y_train)\n",
    "    \n",
    "    predicted_svc = lsvc.predict(X_test_tf)\n",
    "    \n",
    "    accuracy_svc = metrics.accuracy_score(y_test, predicted_svc)\n",
    "    \n",
    "    print(f\"Your accuracy for SVC Classifier is: {accuracy_svc}\")\n",
    "    \n",
    "    \n",
    "    cf_matrix_svc = metrics.confusion_matrix(y_test, predicted_svc)\n",
    "    \n",
    "    group_names = ['True Neg','False Pos','False Neg','True Pos']\n",
    "    \n",
    "    group_counts_svc = ['{0:0.0f}'.format(value) for value in\n",
    "                    cf_matrix_svc.flatten()]\n",
    "    \n",
    "    group_percentages_svc = ['{0:.2%}'.format(value) for value in\n",
    "                     cf_matrix_svc.flatten()/np.sum(cf_matrix_svc)]\n",
    "    \n",
    "    labels_svc = [f'{v1}\\n{v2}\\n{v3}' for v1, v2, v3 in\n",
    "              zip(group_names,group_counts_svc,group_percentages_svc)]\n",
    "    \n",
    "    labels_svc = np.asarray(labels_svc).reshape(2,2)\n",
    "    \n",
    "    ax = sns.heatmap(cf_matrix_svc, annot=labels_svc, fmt=\"\", cmap='RdYlGn')\n",
    "    ax.set(title='Linear SVC Classifier Confusion Matrix')\n",
    "    \n",
    "    plt.show()\n",
    "    \n",
    "    \n",
    "    ## Random Forest\n",
    "    \n",
    "    rf = RandomForestClassifier(n_estimators=100, \n",
    "                               bootstrap = False,\n",
    "                               max_features = 'sqrt', random_state=1,criterion='entropy')\n",
    "    \n",
    "    \n",
    "    rf.fit(X_train_tf, y_train)\n",
    "    \n",
    "    predicted_rf = rf.predict(X_test_tf)\n",
    "    \n",
    "    accuracy_rf = metrics.accuracy_score(y_test, predicted_rf)\n",
    "    \n",
    "    print(f\"Your accuracy for Random Forest is: {accuracy_rf}\")\n",
    "    \n",
    "    cf_matrix_rf = metrics.confusion_matrix(y_test, predicted_rf)\n",
    "    \n",
    "    \n",
    "    group_counts_rf = ['{0:0.0f}'.format(value) for value in\n",
    "                    cf_matrix_rf.flatten()]\n",
    "    \n",
    "    group_percentages_rf = ['{0:.2%}'.format(value) for value in\n",
    "                     cf_matrix_rf.flatten()/np.sum(cf_matrix_rf)]\n",
    "    \n",
    "    labels_rf = [f'{v1}\\n{v2}\\n{v3}' for v1, v2, v3 in\n",
    "              zip(group_names,group_counts_rf,group_percentages_rf)]\n",
    "    \n",
    "    labels_rf = np.asarray(labels_rf).reshape(2,2)\n",
    "    \n",
    "    ax = sns.heatmap(cf_matrix_rf, annot=labels_rf, fmt=\"\", cmap='RdYlGn')\n",
    "    ax.set(title='Random Forest Classifier Confusion Matrix')\n",
    "    "
   ]
  },
  {
   "cell_type": "code",
   "execution_count": 6,
   "metadata": {
    "scrolled": false
   },
   "outputs": [
    {
     "name": "stdout",
     "output_type": "stream",
     "text": [
      "Your accuracy for SVC Classifier is: 0.822463768115942\n"
     ]
    },
    {
     "data": {
      "image/png": "[encoded data removed]",
      "text/plain": [
       "<Figure size 432x288 with 2 Axes>"
      ]
     },
     "metadata": {
      "needs_background": "light"
     },
     "output_type": "display_data"
    },
    {
     "name": "stdout",
     "output_type": "stream",
     "text": [
      "Your accuracy for Random Forest is: 0.8260869565217391\n"
     ]
    },
    {
     "data": {
      "image/png": "[encoded data removed]",
      "text/plain": [
       "<Figure size 432x288 with 2 Axes>"
      ]
     },
     "metadata": {
      "needs_background": "light"
     },
     "output_type": "display_data"
    }
   ],
   "source": [
    "test = sentiment_analysis_pt2('car-reviews.csv')\n",
    "test"
   ]
  },
  {
   "cell_type": "markdown",
   "metadata": {},
   "source": [
    "## Quick Summary\n",
    "\n"
   ]
  },
  {
   "cell_type": "markdown",
   "metadata": {},
   "source": [
    "* Naive Bayes algorithm worked the best with count vectorizer and smaller maximum feature size since the dimention of the data is quite big. \n",
    "\n",
    "* NB assumes conditional likelyhoods of the train dataset is the same with test dataset which might also be an issue when test data is randomly selected. \n",
    "\n",
    "\n",
    "* Tf-idf vectorizer worked the best with Random Forest, although Linear SVC also gave comparable results. \n",
    "\n",
    "\n",
    "* Among all 3 algorithms, Random Forest still gave the best results, although I am not quite satisfied with the accuracy.\n",
    "\n",
    "* For better results, I would use Random Forest Regressor and GridSearch to find the best hyperparameters for the dataset after changing the Sentiment to integer values or feed the model with more data especially for Random Forest since it might take some time to train the model.\n",
    "\n",
    "\n",
    "\n"
   ]
  },
  {
   "cell_type": "code",
   "execution_count": null,
   "metadata": {},
   "outputs": [],
   "source": []
  }
 ],
 "metadata": {
  "kernelspec": {
   "display_name": "Python 3",
   "language": "python",
   "name": "python3"
  },
  "language_info": {
   "codemirror_mode": {
    "name": "ipython",
    "version": 3
   },
   "file_extension": ".py",
   "mimetype": "text/x-python",
   "name": "python",
   "nbconvert_exporter": "python",
   "pygments_lexer": "ipython3",
   "version": "3.9.12"
  }
 },
 "nbformat": 4,
 "nbformat_minor": 4
}
